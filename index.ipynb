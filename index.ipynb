{
 "cells": [
  {
   "cell_type": "markdown",
   "metadata": {},
   "source": [
    "# Performing Principal Component Analysis (PCA) - Lab\n",
    "\n",
    "## Introduction\n",
    "\n",
    "Now that you have high level overview of PCA as well as some of the details in the algorithm itself, its time to practice implementing PCA on your own using the NumPy package. \n",
    "\n",
    "## Objectives\n",
    "\n",
    "You will be able to:\n",
    "    \n",
    "* Implement PCA from scratch using NumPy"
   ]
  },
  {
   "cell_type": "markdown",
   "metadata": {},
   "source": [
    "## Import the Data\n",
    "\n",
    "To start, import the data stored in the file 'foodusa.csv'."
   ]
  },
  {
   "cell_type": "code",
   "execution_count": 1,
   "metadata": {
    "scrolled": true
   },
   "outputs": [
    {
     "data": {
      "text/html": [
       "<div>\n",
       "<style scoped>\n",
       "    .dataframe tbody tr th:only-of-type {\n",
       "        vertical-align: middle;\n",
       "    }\n",
       "\n",
       "    .dataframe tbody tr th {\n",
       "        vertical-align: top;\n",
       "    }\n",
       "\n",
       "    .dataframe thead th {\n",
       "        text-align: right;\n",
       "    }\n",
       "</style>\n",
       "<table border=\"1\" class=\"dataframe\">\n",
       "  <thead>\n",
       "    <tr style=\"text-align: right;\">\n",
       "      <th></th>\n",
       "      <th>City</th>\n",
       "      <th>Bread</th>\n",
       "      <th>Burger</th>\n",
       "      <th>Milk</th>\n",
       "      <th>Oranges</th>\n",
       "      <th>Tomatoes</th>\n",
       "    </tr>\n",
       "  </thead>\n",
       "  <tbody>\n",
       "    <tr>\n",
       "      <th>0</th>\n",
       "      <td>ATLANTA</td>\n",
       "      <td>24.5</td>\n",
       "      <td>94.5</td>\n",
       "      <td>73.9</td>\n",
       "      <td>80.1</td>\n",
       "      <td>41.6</td>\n",
       "    </tr>\n",
       "    <tr>\n",
       "      <th>1</th>\n",
       "      <td>BALTIMORE</td>\n",
       "      <td>26.5</td>\n",
       "      <td>91.0</td>\n",
       "      <td>67.5</td>\n",
       "      <td>74.6</td>\n",
       "      <td>53.3</td>\n",
       "    </tr>\n",
       "    <tr>\n",
       "      <th>2</th>\n",
       "      <td>BOSTON</td>\n",
       "      <td>29.7</td>\n",
       "      <td>100.8</td>\n",
       "      <td>61.4</td>\n",
       "      <td>104.0</td>\n",
       "      <td>59.6</td>\n",
       "    </tr>\n",
       "    <tr>\n",
       "      <th>3</th>\n",
       "      <td>BUFFALO</td>\n",
       "      <td>22.8</td>\n",
       "      <td>86.6</td>\n",
       "      <td>65.3</td>\n",
       "      <td>118.4</td>\n",
       "      <td>51.2</td>\n",
       "    </tr>\n",
       "    <tr>\n",
       "      <th>4</th>\n",
       "      <td>CHICAGO</td>\n",
       "      <td>26.7</td>\n",
       "      <td>86.7</td>\n",
       "      <td>62.7</td>\n",
       "      <td>105.9</td>\n",
       "      <td>51.2</td>\n",
       "    </tr>\n",
       "  </tbody>\n",
       "</table>\n",
       "</div>"
      ],
      "text/plain": [
       "        City  Bread  Burger  Milk  Oranges  Tomatoes\n",
       "0    ATLANTA   24.5    94.5  73.9     80.1      41.6\n",
       "1  BALTIMORE   26.5    91.0  67.5     74.6      53.3\n",
       "2     BOSTON   29.7   100.8  61.4    104.0      59.6\n",
       "3    BUFFALO   22.8    86.6  65.3    118.4      51.2\n",
       "4    CHICAGO   26.7    86.7  62.7    105.9      51.2"
      ]
     },
     "execution_count": 1,
     "metadata": {},
     "output_type": "execute_result"
    }
   ],
   "source": [
    "#Your code here\n",
    "import pandas as pd\n",
    "import numpy as np\n",
    "df = pd.read_csv('foodusa.csv')\n",
    "df.head()"
   ]
  },
  {
   "cell_type": "code",
   "execution_count": 6,
   "metadata": {},
   "outputs": [],
   "source": [
    "# Drop city since it won't be needed\n",
    "df.drop('City', axis = 1, inplace = True)"
   ]
  },
  {
   "cell_type": "markdown",
   "metadata": {},
   "source": [
    "## Normalize the Data\n",
    "\n",
    "Next, normalize your data by subtracting the feature mean from each of the columns"
   ]
  },
  {
   "cell_type": "code",
   "execution_count": 2,
   "metadata": {},
   "outputs": [],
   "source": [
    "#Your code here\n",
    "for column in df.columns[1:]:\n",
    "    df[column] = df[column] - df[column].mean()"
   ]
  },
  {
   "cell_type": "code",
   "execution_count": 4,
   "metadata": {},
   "outputs": [
    {
     "data": {
      "text/plain": [
       "Bread      -9.267949e-16\n",
       "Burger     -8.032222e-15\n",
       "Milk        2.780385e-15\n",
       "Oranges     1.235726e-14\n",
       "Tomatoes   -5.869701e-15\n",
       "dtype: float64"
      ]
     },
     "execution_count": 4,
     "metadata": {},
     "output_type": "execute_result"
    }
   ],
   "source": [
    "df.mean()"
   ]
  },
  {
   "cell_type": "markdown",
   "metadata": {},
   "source": [
    "## Calculate the Covariance Matrix\n",
    "\n",
    "The next step for PCA is to calculate to covariance matrix for your normalized data. Do so here."
   ]
  },
  {
   "cell_type": "code",
   "execution_count": 8,
   "metadata": {},
   "outputs": [
    {
     "data": {
      "text/plain": [
       "array([[  6.2844664 ,  12.91096838,   5.71905138,   1.31037549,\n",
       "          7.28513834],\n",
       "       [ 12.91096838,  57.07711462,  17.50752964,  22.69187747,\n",
       "         36.29478261],\n",
       "       [  5.71905138,  17.50752964,  48.30588933,  -0.27503953,\n",
       "         13.44347826],\n",
       "       [  1.31037549,  22.69187747,  -0.27503953, 202.75628458,\n",
       "         38.76241107],\n",
       "       [  7.28513834,  36.29478261,  13.44347826,  38.76241107,\n",
       "         57.80055336]])"
      ]
     },
     "execution_count": 8,
     "metadata": {},
     "output_type": "execute_result"
    }
   ],
   "source": [
    "#Your code here\n",
    "cov = np.cov(df.T)\n",
    "cov"
   ]
  },
  {
   "cell_type": "markdown",
   "metadata": {},
   "source": [
    "## Calculate the Eigenvectors\n",
    "\n",
    "Next, calculate the eigenvectors for your covariance matrix."
   ]
  },
  {
   "cell_type": "code",
   "execution_count": 9,
   "metadata": {},
   "outputs": [],
   "source": [
    "#Your code here\n",
    "w,v = np.linalg.eig(cov)"
   ]
  },
  {
   "cell_type": "markdown",
   "metadata": {},
   "source": [
    "## Sorting the Eigenvectors to Determine Primary Components\n",
    "\n",
    "Great! Now that you have the eigenvectors and their associated eigenvalues, sort the eigenvectors based on their eigenvalues!"
   ]
  },
  {
   "cell_type": "code",
   "execution_count": 14,
   "metadata": {},
   "outputs": [
    {
     "name": "stdout",
     "output_type": "stream",
     "text": [
      "[[-0.02848905 -0.16532108 -0.96716354 -0.18972574  0.02135748]\n",
      " [-0.2001224  -0.63218494  0.24877074 -0.65862454  0.25420475]\n",
      " [-0.0416723  -0.44215032  0.03606094  0.10765906 -0.88874949]\n",
      " [-0.93885906  0.31435473 -0.01521357 -0.06904699 -0.12135003]\n",
      " [-0.27558389 -0.52791603 -0.03429221  0.71684022  0.36100184]]\n",
      "[218.99867893  91.72316894   3.02922934  20.81054128  37.66268981]\n",
      "[[-0.02848905 -0.16532108  0.02135748 -0.18972574 -0.96716354]\n",
      " [-0.2001224  -0.63218494  0.25420475 -0.65862454  0.24877074]\n",
      " [-0.0416723  -0.44215032 -0.88874949  0.10765906  0.03606094]\n",
      " [-0.93885906  0.31435473 -0.12135003 -0.06904699 -0.01521357]\n",
      " [-0.27558389 -0.52791603  0.36100184  0.71684022 -0.03429221]]\n"
     ]
    }
   ],
   "source": [
    "#Your code here\n",
    "w_sorted_ind = np.argsort(w)\n",
    "v_sorted = v[:,np.flip(w_sorted_ind)]\n",
    "print(v)\n",
    "print(w)\n",
    "print(v_sorted)"
   ]
  },
  {
   "cell_type": "markdown",
   "metadata": {},
   "source": [
    "## Reprojecting the Data\n",
    "\n",
    "Finally, reproject the dataset using your eigenvectors. Reproject the dataset down to 2 dimensions."
   ]
  },
  {
   "cell_type": "code",
   "execution_count": 15,
   "metadata": {},
   "outputs": [
    {
     "data": {
      "text/plain": [
       "array([[ 11.10636706,  14.73134932],\n",
       "       [  1.21900301,  21.44989411],\n",
       "       [-12.29365615,  -4.73286484],\n",
       "       [ -4.27410508,  -4.95746329],\n",
       "       [ -2.08570219,   1.77071529],\n",
       "       [  2.02322957,  -4.83130671],\n",
       "       [  0.76513968,  -5.78241861],\n",
       "       [  5.01990281,  -7.08302707],\n",
       "       [ -5.28963606,  -7.18560259],\n",
       "       [-20.29491244, -21.8073279 ],\n",
       "       [  6.65984778,   1.94000258],\n",
       "       [  6.31128707,   2.48929146],\n",
       "       [ 14.12127203,  10.53050299],\n",
       "       [ -6.30360841,  -4.25846371],\n",
       "       [ -2.70119271,  -4.22170394],\n",
       "       [-17.39101398, -11.4694373 ],\n",
       "       [-11.5197783 ,   7.50279463],\n",
       "       [ -3.85046231, -12.11400365],\n",
       "       [  0.02742717,  -9.57890292],\n",
       "       [ 16.08930141,   7.15585369],\n",
       "       [  7.92495397,   0.76667379],\n",
       "       [  8.40796253,  16.30333807],\n",
       "       [  6.32837355,  13.38210659]])"
      ]
     },
     "execution_count": 15,
     "metadata": {},
     "output_type": "execute_result"
    }
   ],
   "source": [
    "#Your code here\n",
    "reduced = v_sorted[0:2].dot(df.T).T\n",
    "reduced"
   ]
  },
  {
   "cell_type": "markdown",
   "metadata": {},
   "source": [
    "## Summary\n",
    "\n",
    "Well done! You've now coded PCA on your own using NumPy! With that, it's time to look at further application of PCA."
   ]
  }
 ],
 "metadata": {
  "kernelspec": {
   "display_name": "Python 3",
   "language": "python",
   "name": "python3"
  },
  "language_info": {
   "codemirror_mode": {
    "name": "ipython",
    "version": 3
   },
   "file_extension": ".py",
   "mimetype": "text/x-python",
   "name": "python",
   "nbconvert_exporter": "python",
   "pygments_lexer": "ipython3",
   "version": "3.7.5"
  }
 },
 "nbformat": 4,
 "nbformat_minor": 2
}
